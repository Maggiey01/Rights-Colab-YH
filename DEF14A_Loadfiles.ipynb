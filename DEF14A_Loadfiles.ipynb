{
  "cells": [
    {
      "cell_type": "markdown",
      "metadata": {
        "id": "view-in-github",
        "colab_type": "text"
      },
      "source": [
        "<a href=\"https://colab.research.google.com/github/Maggiey01/Rights-Colab-YH/blob/main/DEF14A_Loadfiles.ipynb\" target=\"_parent\"><img src=\"https://colab.research.google.com/assets/colab-badge.svg\" alt=\"Open In Colab\"/></a>"
      ]
    },
    {
      "cell_type": "markdown",
      "metadata": {
        "id": "tnYGyDDJFk-s"
      },
      "source": [
        "# work pipeline\n",
        "out of 37164/19349 proxy statements with 78 valid industry id\n",
        "['EM-SV', 'TC-HW', 'RR-PP', nan, 'TC-TL', 'FN-AC', 'EM-MM', 'IF-EU',\n",
        "       'FB-NB', 'FN-CB', 'TC-SI', 'SV-ED', 'HC-BP', 'RT-AE', 'EM-IS',\n",
        "       'CG-MR', 'FB-RN', 'CG-HP', 'RT-IG', 'IF-RE', 'TC-SC', 'CG-BF',\n",
        "       'CG-AA', 'TR-AP', 'EM-RM', 'HC-MS', 'RT-EE', 'SV-HL', 'SV-ME',\n",
        "       'FB-FR', 'RT-CH', 'SV-PS', 'IF-WM', 'CG-EC', 'CG-AM', 'HC-MC',\n",
        "       'SV-AD', 'IF-WU', 'TR-AF', 'FN-IN', 'FB-PF', 'FN-EX', 'RR-WT',\n",
        "       'IF-EN', 'EM-MD', 'FB-AG', 'IF-RS', 'EM-EP', 'SV-CA', 'TR-RO',\n",
        "       'RR-BI', 'RT-CP', 'FN-CF', 'FN-MF', 'FN-IB', 'HC-DY', 'TR-MT',\n",
        "       'TC-IM', 'FB-TB', 'EM-CM', 'SV-LF', 'FB-MP', 'RR-ST', 'EM-CO',\n",
        "       'IF-HB', 'TR-RA', 'CG-TS', 'TR-CR', 'HC-DI', 'TR-AL', 'TR-AU',\n",
        "       'TR-CL', 'FB-AB', 'RR-FC', 'IF-GU', 'HC-DR', 'RR-FM', 'TC-ES']\n",
        "\n",
        "\n",
        "1. Check file amounts from each years  \n",
        "5973 files in 2016 directory  \n",
        "363 files in 2017 directory  \n",
        "5833 files in 2018 directory  \n",
        "5863 files in 2019 directory  \n",
        "6026 files in 2020 directory  \n",
        "6187 files in 2021 directory  \n",
        "  \n",
        "2. Create a DEFYY_X dataframe  \n",
        "  1.1 load each year's proxy statement txt in a dataframe    \n",
        "  1.2 sort file directory alphabetically and each time loop 1000 files in a dataframe to avoid RAM limit    \n",
        "  1.3 download YY year's proxy statement statements and save each dataframe as the X's csv in YY year  \n",
        "- output: ['label', 'ticker', 'path', 'body', 'industry_id']\n",
        "\n",
        "3. Check whether csv columns collect comprehensive text from filings  \n",
        "\n",
        "\n",
        "\n",
        "\n"
      ]
    },
    {
      "cell_type": "markdown",
      "source": [
        "## Import packages"
      ],
      "metadata": {
        "id": "aheR4bR2-KgN"
      }
    },
    {
      "cell_type": "code",
      "execution_count": null,
      "metadata": {
        "colab": {
          "base_uri": "https://localhost:8080/"
        },
        "id": "ismWjiRs86g4",
        "outputId": "c295eadc-c215-4024-ae3b-100077d44708"
      },
      "outputs": [
        {
          "output_type": "stream",
          "name": "stdout",
          "text": [
            "Mounted at /content/drive\n"
          ]
        }
      ],
      "source": [
        "from google.colab import drive\n",
        "drive.mount('/content/drive')\n",
        "#\"/content/drive/MyDrive/DFG/Proxy Statement/\""
      ]
    },
    {
      "cell_type": "code",
      "execution_count": null,
      "metadata": {
        "id": "UHI2r1R89AWB"
      },
      "outputs": [],
      "source": [
        "import datetime\n",
        "import numpy as np\n",
        "import os\n",
        "import pandas as pd\n",
        "import re\n",
        "import matplotlib.pyplot as plt\n",
        "import seaborn as sns\n",
        "import random\n",
        "\n",
        "import plotly.graph_objects as go\n",
        "import plotly.figure_factory as ff\n",
        "import plotly.express as px\n",
        "from itertools import islice\n",
        "from sklearn.feature_extraction.text import CountVectorizer, TfidfVectorizer\n",
        "\n",
        "pd.set_option('display.max_columns', None)\n",
        "pd.set_option('display.max_rows', None)\n",
        "pd.set_option('display.max_colwidth', None)"
      ]
    },
    {
      "cell_type": "code",
      "execution_count": null,
      "metadata": {
        "colab": {
          "base_uri": "https://localhost:8080/"
        },
        "id": "5a2tmawv5Xm_",
        "outputId": "b73708fb-7787-41cf-d996-4b8021a9a537"
      },
      "outputs": [
        {
          "output_type": "stream",
          "name": "stdout",
          "text": [
            "5973 files in 2016 directory\n",
            "363 files in 2017 directory\n",
            "5833 files in 2018 directory\n",
            "5863 files in 2019 directory\n",
            "6026 files in 2020 directory\n",
            "6187 files in 2021 directory\n"
          ]
        }
      ],
      "source": [
        "#count files amount from each year\n",
        "DEF_raw_dir = '/content/drive/MyDrive/DFG/Save DEF/'\n",
        "\n",
        "def filenumber(rawpath):\n",
        "  for y in ['2016', '2017', '2018', '2019', '2020', '2021']:\n",
        "    path, dirs, files = next(os.walk(DEF_raw_dir+y+'/'))\n",
        "    file_count = len(files)\n",
        "    print(f'{file_count} files in {y} directory')\n",
        "\n",
        "filenumber(DEF_raw_dir)\n"
      ]
    },
    {
      "cell_type": "code",
      "execution_count": null,
      "metadata": {
        "id": "Gc3KfkfiMoZ_"
      },
      "outputs": [],
      "source": [
        "def filenumber(rawpath):\n",
        "  path, dirs, files = next(os.walk(rawpath))\n",
        "  file_count = len(files)\n",
        "  print(f'{file_count} files in {rawpath} directory')\n"
      ]
    },
    {
      "cell_type": "markdown",
      "metadata": {
        "id": "W0U77d6xl6Ji"
      },
      "source": [
        "## Collect files text as dataframe, save as csv\n",
        "Input: path of each year files folder  \n",
        "Read 1000 files from each year each time to put in a df  \n",
        "Each row read 1 file  \n",
        "Output: dataframe\n",
        "- Download each dataframe as csv\n"
      ]
    },
    {
      "cell_type": "code",
      "execution_count": null,
      "metadata": {
        "id": "KH8qCx9IsbSI"
      },
      "outputs": [],
      "source": [
        "ind_map = pd.read_csv('/content/drive/MyDrive/DFG/usable_10ks_with_sics.csv')\n",
        "ind_dict = pd.Series(ind_map.primary_industry_id.values,index=ind_map.ticker).to_dict()"
      ]
    },
    {
      "cell_type": "code",
      "execution_count": null,
      "metadata": {
        "id": "sTsxZEECsiYi"
      },
      "outputs": [],
      "source": [
        "def file_seeker(path_in, index_start, index_stop):\n",
        "    import os\n",
        "    import pandas as pd\n",
        "    tmp_pd = pd.DataFrame()\n",
        "    try:\n",
        "      for count, fname in enumerate(islice(sorted(os.listdir(path_in)),index_start,index_stop)):\n",
        "        if (fname[:4] != '_UNK') & (fname[-4:] != '.tsv'):\n",
        "          tmp = open(path_in+fname, \"r\", encoding=\"ISO-8859-1\")\n",
        "          tmp_f = tmp.read()\n",
        "          tmp.close()\n",
        "          #paralist=[content.strip() for content in tmp_f.splitlines() if content]\n",
        "          #for paraindex, paratext in enumerate(paralist):\n",
        "          tmp_pd = tmp_pd.append({'label': fname,   \n",
        "                                    'ticker': fname[:-29],                                 \n",
        "                                    'path': path_in+fname, \n",
        "                                    'body': tmp_f}\n",
        "                                   ,ignore_index=True)\n",
        "        if count == index_stop:\n",
        "          break\n",
        "    except Exception as e:\n",
        "      print (e)\n",
        "      pass\n",
        "    return tmp_pd, count"
      ]
    },
    {
      "cell_type": "code",
      "execution_count": null,
      "metadata": {
        "id": "5mrm0YiqCIe0"
      },
      "outputs": [],
      "source": [
        "#count readable proxy statement after load into dataframe\n",
        "def filedatalist(file_datalist):\n",
        "  filesum=0\n",
        "  for i in file_datalist:\n",
        "    print(i.shape)\n",
        "    filesum=filesum+i.shape[0]\n",
        "  return filesum"
      ]
    },
    {
      "cell_type": "markdown",
      "metadata": {
        "id": "Ya2zutS8t3g0"
      },
      "source": [
        "### DEF 2016\n",
        "5973 in all  \n",
        "4323 after read  \n"
      ]
    },
    {
      "cell_type": "code",
      "execution_count": null,
      "metadata": {
        "colab": {
          "background_save": true
        },
        "id": "f5lcCKd9rl2R"
      },
      "outputs": [],
      "source": [
        "DEF16_raw_dir = '/content/drive/MyDrive/DFG/Save DEF/2016/'\n",
        "DEF16_1, load_count = file_seeker(DEF16_raw_dir, 0, 1000)\n",
        "DEF16_1['industry_id'] = DEF16_1['ticker'].apply(lambda x: ind_dict.get(x))\n",
        "with open('/content/drive/My Drive/DFG/DEF14A_Data/DEF16_1.csv', 'w') as f:\n",
        "  DEF16_1.to_csv(f)"
      ]
    },
    {
      "cell_type": "code",
      "execution_count": null,
      "metadata": {
        "colab": {
          "background_save": true
        },
        "id": "E8cnbRy29vig"
      },
      "outputs": [],
      "source": [
        "DEF16_2, load_count = file_seeker(DEF16_raw_dir, 1000, 2000)\n",
        "DEF16_2['industry_id'] = DEF16_2['ticker'].apply(lambda x: ind_dict.get(x))\n",
        "with open('/content/drive/My Drive/DFG/DEF14A_Data/DEF16_2.csv', 'w') as f:\n",
        "  DEF16_2.to_csv(f)"
      ]
    },
    {
      "cell_type": "code",
      "execution_count": null,
      "metadata": {
        "colab": {
          "background_save": true
        },
        "id": "g2rkQZgp-Fks"
      },
      "outputs": [],
      "source": [
        "DEF16_3, load_count = file_seeker(DEF16_raw_dir, 2000, 3000)\n",
        "DEF16_3['industry_id'] = DEF16_3['ticker'].apply(lambda x: ind_dict.get(x))\n",
        "with open('/content/drive/My Drive/DFG/DEF14A_Data/DEF16_3.csv', 'w') as f:\n",
        "  DEF16_3.to_csv(f)"
      ]
    },
    {
      "cell_type": "code",
      "execution_count": null,
      "metadata": {
        "colab": {
          "background_save": true
        },
        "id": "x22WlNOv-U4f"
      },
      "outputs": [],
      "source": [
        "DEF16_4, load_count = file_seeker(DEF16_raw_dir, 3000, 4000)\n",
        "DEF16_4['industry_id'] = DEF16_4['ticker'].apply(lambda x: ind_dict.get(x))\n",
        "with open('/content/drive/My Drive/DFG/DEF14A_Data/DEF16_4.csv', 'w') as f:\n",
        "  DEF16_4.to_csv(f)"
      ]
    },
    {
      "cell_type": "code",
      "execution_count": null,
      "metadata": {
        "colab": {
          "background_save": true
        },
        "id": "TjlXFB0f-jSh"
      },
      "outputs": [],
      "source": [
        "DEF16_5, load_count = file_seeker(DEF16_raw_dir, 4000, 5000)\n",
        "DEF16_5['industry_id'] = DEF16_5['ticker'].apply(lambda x: ind_dict.get(x))\n",
        "with open('/content/drive/My Drive/DFG/DEF14A_Data/DEF16_5.csv', 'w') as f:\n",
        "  DEF16_5.to_csv(f)"
      ]
    },
    {
      "cell_type": "code",
      "execution_count": null,
      "metadata": {
        "colab": {
          "background_save": true
        },
        "id": "Sc3bMiaN_LR8",
        "outputId": "487ab886-65a4-4c54-c23a-f640e815b3b4"
      },
      "outputs": [
        {
          "name": "stdout",
          "output_type": "stream",
          "text": [
            "(975, 5)\n",
            "(1000, 5)\n",
            "(1000, 5)\n",
            "(1000, 5)\n",
            "(348, 5)\n"
          ]
        },
        {
          "data": {
            "text/plain": [
              "4323"
            ]
          },
          "execution_count": null,
          "metadata": {},
          "output_type": "execute_result"
        }
      ],
      "source": [
        "DEF16 = [DEF16_1,DEF16_2,DEF16_3,DEF16_4,DEF16_5]\n",
        "filedatalist(DEF16)"
      ]
    },
    {
      "cell_type": "markdown",
      "metadata": {
        "id": "PGarZ-EnGYUZ"
      },
      "source": [
        "### DEF 2017\n",
        "363 files in /content/drive/MyDrive/DFG/Proxy Statement/2017/ directory"
      ]
    },
    {
      "cell_type": "markdown",
      "metadata": {
        "id": "0t4k-UBcCvBk"
      },
      "source": [
        "### DEF 2018\n",
        "5833 in 2018 directory  \n",
        "4734 after read \n"
      ]
    },
    {
      "cell_type": "code",
      "execution_count": null,
      "metadata": {
        "id": "vEVLPhjpC1Ra"
      },
      "outputs": [],
      "source": [
        "DEF18_raw_dir = '/content/drive/MyDrive/DFG/Save DEF/2018/'\n",
        "DEF18_1, load_count = file_seeker(DEF18_raw_dir, 0, 1000)\n",
        "DEF18_1['industry_id'] = DEF18_1['ticker'].apply(lambda x: ind_dict.get(x))\n",
        "with open('/content/drive/My Drive/DFG/DEF14A_Data/DEF18_1.csv', 'w') as f:\n",
        "  DEF18_1.to_csv(f)"
      ]
    },
    {
      "cell_type": "code",
      "execution_count": null,
      "metadata": {
        "id": "qsuC1c7KDHWE"
      },
      "outputs": [],
      "source": [
        "DEF18_2, load_count = file_seeker(DEF18_raw_dir, 1000, 2000)\n",
        "DEF18_2['industry_id'] = DEF18_2['ticker'].apply(lambda x: ind_dict.get(x))\n",
        "with open('/content/drive/My Drive/DFG/DEF14A_Data/DEF18_2.csv', 'w') as f:\n",
        "  DEF18_2.to_csv(f)"
      ]
    },
    {
      "cell_type": "code",
      "execution_count": null,
      "metadata": {
        "id": "58GA19QLDH1A"
      },
      "outputs": [],
      "source": [
        "DEF18_3, load_count = file_seeker(DEF18_raw_dir, 2000, 3000)\n",
        "DEF18_3['industry_id'] = DEF18_3['ticker'].apply(lambda x: ind_dict.get(x))\n",
        "with open('/content/drive/My Drive/DFG/DEF14A_Data/DEF18_3.csv', 'w') as f:\n",
        "  DEF18_3.to_csv(f)"
      ]
    },
    {
      "cell_type": "code",
      "execution_count": null,
      "metadata": {
        "id": "OAfdz7XKDX5S"
      },
      "outputs": [],
      "source": [
        "DEF18_4, load_count = file_seeker(DEF18_raw_dir, 3000, 4000)\n",
        "DEF18_4['industry_id'] = DEF18_4['ticker'].apply(lambda x: ind_dict.get(x))\n",
        "with open('/content/drive/My Drive/DFG/DEF14A_Data/DEF18_4.csv', 'w') as f:\n",
        "  DEF18_4.to_csv(f)"
      ]
    },
    {
      "cell_type": "code",
      "execution_count": null,
      "metadata": {
        "id": "8SYpjRoWDekM"
      },
      "outputs": [],
      "source": [
        "DEF18_5, load_count = file_seeker(DEF18_raw_dir, 4000, 5000)\n",
        "DEF18_5['industry_id'] = DEF18_5['ticker'].apply(lambda x: ind_dict.get(x))\n",
        "with open('/content/drive/My Drive/DFG/DEF14A_Data/DEF18_5.csv', 'w') as f:\n",
        "  DEF18_5.to_csv(f)"
      ]
    },
    {
      "cell_type": "code",
      "execution_count": null,
      "metadata": {
        "colab": {
          "base_uri": "https://localhost:8080/"
        },
        "id": "EDckEZuCFShO",
        "outputId": "e3c84c7a-4311-4082-da73-4e093d104b5e"
      },
      "outputs": [
        {
          "output_type": "stream",
          "name": "stdout",
          "text": [
            "(983, 5)\n",
            "(1000, 5)\n",
            "(1000, 5)\n",
            "(1000, 5)\n",
            "(751, 5)\n"
          ]
        },
        {
          "output_type": "execute_result",
          "data": {
            "text/plain": [
              "4734"
            ]
          },
          "metadata": {},
          "execution_count": 13
        }
      ],
      "source": [
        "DEF18 = [DEF18_1,DEF18_2,DEF18_3,DEF18_4,DEF18_5]\n",
        "filedatalist(DEF18)"
      ]
    },
    {
      "cell_type": "markdown",
      "metadata": {
        "id": "mHFuWYlxGiQn"
      },
      "source": [
        "### DEF 2019\n",
        "5863 in 2019 directory  \n",
        "5017 after read\n",
        "\n"
      ]
    },
    {
      "cell_type": "code",
      "execution_count": null,
      "metadata": {
        "id": "DUVvrP-IGpKU"
      },
      "outputs": [],
      "source": [
        "DEF19_raw_dir = '/content/drive/MyDrive/DFG/Save DEF/2019/'\n",
        "DEF19_1, load_count = file_seeker(DEF19_raw_dir, 0, 1000)\n",
        "DEF19_1['industry_id'] = DEF19_1['ticker'].apply(lambda x: ind_dict.get(x))\n",
        "with open('/content/drive/My Drive/DFG/DEF14A_Data/DEF19_1.csv', 'w') as f:\n",
        "  DEF19_1.to_csv(f)"
      ]
    },
    {
      "cell_type": "code",
      "execution_count": null,
      "metadata": {
        "id": "phrcsYYGGE56"
      },
      "outputs": [],
      "source": [
        "DEF19_2, load_count = file_seeker(DEF19_raw_dir, 1000, 2000)\n",
        "DEF19_2['industry_id'] = DEF19_2['ticker'].apply(lambda x: ind_dict.get(x))\n",
        "with open('/content/drive/My Drive/DFG/DEF14A_Data/DEF19_2.csv', 'w') as f:\n",
        "  DEF19_2.to_csv(f)"
      ]
    },
    {
      "cell_type": "code",
      "execution_count": null,
      "metadata": {
        "id": "pHraG6xjIdO3"
      },
      "outputs": [],
      "source": [
        "DEF19_3, load_count = file_seeker(DEF19_raw_dir, 2000, 3000)\n",
        "DEF19_3['industry_id'] = DEF19_3['ticker'].apply(lambda x: ind_dict.get(x))\n",
        "with open('/content/drive/My Drive/DFG/DEF14A_Data/DEF19_3.csv', 'w') as f:\n",
        "  DEF19_3.to_csv(f)"
      ]
    },
    {
      "cell_type": "code",
      "execution_count": null,
      "metadata": {
        "id": "SL7CYy1mIhTh"
      },
      "outputs": [],
      "source": [
        "DEF19_4, load_count = file_seeker(DEF19_raw_dir, 3000, 4000)\n",
        "DEF19_4['industry_id'] = DEF19_4['ticker'].apply(lambda x: ind_dict.get(x))\n",
        "with open('/content/drive/My Drive/DFG/DEF14A_Data/DEF19_4.csv', 'w') as f:\n",
        "  DEF19_4.to_csv(f)"
      ]
    },
    {
      "cell_type": "code",
      "execution_count": null,
      "metadata": {
        "id": "l3BaQTrgInLk"
      },
      "outputs": [],
      "source": [
        "DEF19_5, load_count = file_seeker(DEF19_raw_dir, 4000, 5000)\n",
        "DEF19_5['industry_id'] = DEF19_5['ticker'].apply(lambda x: ind_dict.get(x))\n",
        "with open('/content/drive/My Drive/DFG/DEF14A_Data/DEF19_5.csv', 'w') as f:\n",
        "  DEF19_5.to_csv(f)"
      ]
    },
    {
      "cell_type": "code",
      "execution_count": null,
      "metadata": {
        "id": "dP_-kWH0JeBR"
      },
      "outputs": [],
      "source": [
        "DEF19_6, load_count = file_seeker(DEF19_raw_dir, 5000, 6000)\n",
        "DEF19_6['industry_id'] = DEF19_6['ticker'].apply(lambda x: ind_dict.get(x))\n",
        "with open('/content/drive/My Drive/DFG/DEF14A_Data/DEF19_6.csv', 'w') as f:\n",
        "  DEF19_6.to_csv(f)"
      ]
    },
    {
      "cell_type": "code",
      "execution_count": null,
      "metadata": {
        "colab": {
          "base_uri": "https://localhost:8080/"
        },
        "id": "nMXC0OCUFVmo",
        "outputId": "f39e0c8e-4845-4124-b935-e99e56c64513"
      },
      "outputs": [
        {
          "output_type": "stream",
          "name": "stdout",
          "text": [
            "(983, 5)\n",
            "(1000, 5)\n",
            "(1000, 5)\n",
            "(1000, 5)\n",
            "(1000, 5)\n",
            "(34, 5)\n"
          ]
        },
        {
          "output_type": "execute_result",
          "data": {
            "text/plain": [
              "5017"
            ]
          },
          "metadata": {},
          "execution_count": 113
        }
      ],
      "source": [
        "DEF19 = [DEF19_1,DEF19_2,DEF19_3,DEF19_4,DEF19_5,DEF19_6]\n",
        "filedatalist(DEF19)"
      ]
    },
    {
      "cell_type": "markdown",
      "metadata": {
        "id": "Nq0-OivQJw0d"
      },
      "source": [
        "### DEF 2020\n",
        "6026 in 2020 directory  \n",
        "5362 after read"
      ]
    },
    {
      "cell_type": "code",
      "execution_count": null,
      "metadata": {
        "id": "l3ZTCiv5J4SX"
      },
      "outputs": [],
      "source": [
        "DEF20_raw_dir = '/content/drive/MyDrive/DFG/Save DEF/2020/'\n",
        "DEF20_1, load_count = file_seeker(DEF20_raw_dir, 0, 1000)\n",
        "DEF20_1['industry_id'] = DEF20_1['ticker'].apply(lambda x: ind_dict.get(x))\n",
        "with open('/content/drive/My Drive/DFG/DEF14A_Data/DEF20_1.csv', 'w') as f:\n",
        "  DEF20_1.to_csv(f)"
      ]
    },
    {
      "cell_type": "code",
      "execution_count": null,
      "metadata": {
        "id": "QHgFy1sJKpcB"
      },
      "outputs": [],
      "source": [
        "DEF20_2, load_count = file_seeker(DEF20_raw_dir, 1000, 2000)\n",
        "DEF20_2['industry_id'] = DEF20_2['ticker'].apply(lambda x: ind_dict.get(x))\n",
        "with open('/content/drive/My Drive/DFG/DEF14A_Data/DEF20_2.csv', 'w') as f:\n",
        "  DEF20_2.to_csv(f)"
      ]
    },
    {
      "cell_type": "code",
      "execution_count": null,
      "metadata": {
        "id": "HRv2tcv8Kxdn"
      },
      "outputs": [],
      "source": [
        "DEF20_3, load_count = file_seeker(DEF20_raw_dir, 2000, 3000)\n",
        "DEF20_3['industry_id'] = DEF20_3['ticker'].apply(lambda x: ind_dict.get(x))\n",
        "with open('/content/drive/My Drive/DFG/DEF14A_Data/DEF20_3.csv', 'w') as f:\n",
        "  DEF20_3.to_csv(f)"
      ]
    },
    {
      "cell_type": "code",
      "execution_count": null,
      "metadata": {
        "id": "jwHYsKRmKxxv"
      },
      "outputs": [],
      "source": [
        "DEF20_4, load_count = file_seeker(DEF20_raw_dir, 3000, 4000)\n",
        "DEF20_4['industry_id'] = DEF20_4['ticker'].apply(lambda x: ind_dict.get(x))\n",
        "with open('/content/drive/My Drive/DFG/DEF14A_Data/DEF20_4.csv', 'w') as f:\n",
        "  DEF20_4.to_csv(f)"
      ]
    },
    {
      "cell_type": "code",
      "execution_count": null,
      "metadata": {
        "id": "Uz32ytLHK5tz"
      },
      "outputs": [],
      "source": [
        "DEF20_5, load_count = file_seeker(DEF20_raw_dir, 4000, 5000)\n",
        "DEF20_5['industry_id'] = DEF20_5['ticker'].apply(lambda x: ind_dict.get(x))\n",
        "with open('/content/drive/My Drive/DFG/DEF14A_Data/DEF20_5.csv', 'w') as f:\n",
        "  DEF20_5.to_csv(f)"
      ]
    },
    {
      "cell_type": "code",
      "execution_count": null,
      "metadata": {
        "id": "pQvFzPzDLPtv"
      },
      "outputs": [],
      "source": [
        "DEF20_6, load_count = file_seeker(DEF20_raw_dir, 5000, 6000)\n",
        "DEF20_6['industry_id'] = DEF20_6['ticker'].apply(lambda x: ind_dict.get(x))\n",
        "with open('/content/drive/My Drive/DFG/DEF14A_Data/DEF20_6.csv', 'w') as f:\n",
        "  DEF20_6.to_csv(f)"
      ]
    },
    {
      "cell_type": "code",
      "execution_count": null,
      "metadata": {
        "colab": {
          "base_uri": "https://localhost:8080/"
        },
        "id": "eUgJe562KqLE",
        "outputId": "957ce073-5044-4e0b-9f05-b3f0daf07d9f"
      },
      "outputs": [
        {
          "output_type": "stream",
          "name": "stdout",
          "text": [
            "(991, 5)\n",
            "(1000, 5)\n",
            "(1000, 5)\n",
            "(1000, 5)\n",
            "(1000, 5)\n",
            "(371, 5)\n"
          ]
        },
        {
          "output_type": "execute_result",
          "data": {
            "text/plain": [
              "5362"
            ]
          },
          "metadata": {},
          "execution_count": 19
        }
      ],
      "source": [
        "DEF20 = [DEF20_1,DEF20_2,DEF20_3,DEF20_4,DEF20_5,DEF20_6]\n",
        "filedatalist(DEF20)"
      ]
    },
    {
      "cell_type": "markdown",
      "metadata": {
        "id": "6tt24534K_44"
      },
      "source": [
        "### DEF 2021\n",
        "6187 files in 2021 directory  \n",
        "5617 after read"
      ]
    },
    {
      "cell_type": "code",
      "execution_count": null,
      "metadata": {
        "id": "JDPlfV9LizvY"
      },
      "outputs": [],
      "source": [
        "DEF21_raw_dir = '/content/drive/MyDrive/DFG/Save DEF/2021/'\n",
        "DEF21_1, load_count = file_seeker(DEF21_raw_dir, 0, 1000)\n",
        "DEF21_1['industry_id'] = DEF21_1['ticker'].apply(lambda x: ind_dict.get(x))\n",
        "with open('/content/drive/My Drive/DFG/DEF14A_Data/DEF21_1.csv', 'w') as f:\n",
        "  DEF21_1.to_csv(f)"
      ]
    },
    {
      "cell_type": "code",
      "execution_count": null,
      "metadata": {
        "id": "TcgWu4HsjysM"
      },
      "outputs": [],
      "source": [
        "DEF21_2, load_count = file_seeker(DEF21_raw_dir, 1000, 2000)\n",
        "DEF21_2['industry_id'] = DEF21_2['ticker'].apply(lambda x: ind_dict.get(x))\n",
        "with open('/content/drive/My Drive/DFG/DEF14A_Data/DEF21_2.csv', 'w') as f:\n",
        "  DEF21_2.to_csv(f)"
      ]
    },
    {
      "cell_type": "code",
      "execution_count": null,
      "metadata": {
        "id": "yoaFzfDdmch3"
      },
      "outputs": [],
      "source": [
        "DEF21_3, load_count = file_seeker(DEF21_raw_dir, 2000, 3000)\n",
        "DEF21_3['industry_id'] = DEF21_3['ticker'].apply(lambda x: ind_dict.get(x))\n",
        "with open('/content/drive/My Drive/DFG/DEF14A_Data/DEF21_3.csv', 'w') as f:\n",
        "  DEF21_3.to_csv(f)"
      ]
    },
    {
      "cell_type": "code",
      "execution_count": null,
      "metadata": {
        "id": "Jf_ScdhymiE2"
      },
      "outputs": [],
      "source": [
        "DEF21_4, load_count = file_seeker(DEF21_raw_dir, 3000, 4000)\n",
        "DEF21_4['industry_id'] = DEF21_4['ticker'].apply(lambda x: ind_dict.get(x))\n",
        "with open('/content/drive/My Drive/DFG/DEF14A_Data/DEF21_4.csv', 'w') as f:\n",
        "  DEF21_4.to_csv(f)"
      ]
    },
    {
      "cell_type": "code",
      "execution_count": null,
      "metadata": {
        "id": "_pfdCpUVmoD7"
      },
      "outputs": [],
      "source": [
        "DEF21_5, load_count = file_seeker(DEF21_raw_dir, 4000, 5000)\n",
        "DEF21_5['industry_id'] = DEF21_5['ticker'].apply(lambda x: ind_dict.get(x))\n",
        "with open('/content/drive/My Drive/DFG/DEF14A_Data/DEF21_5.csv', 'w') as f:\n",
        "  DEF21_5.to_csv(f)"
      ]
    },
    {
      "cell_type": "code",
      "execution_count": null,
      "metadata": {
        "id": "Ewmb_jNbmw0H"
      },
      "outputs": [],
      "source": [
        "DEF21_6, load_count = file_seeker(DEF21_raw_dir, 5000, 6000)\n",
        "DEF21_6['industry_id'] = DEF21_6['ticker'].apply(lambda x: ind_dict.get(x))\n",
        "with open('/content/drive/My Drive/DFG/DEF14A_Data/DEF21_6.csv', 'w') as f:\n",
        "  DEF21_6.to_csv(f)"
      ]
    },
    {
      "cell_type": "code",
      "execution_count": null,
      "metadata": {
        "id": "MUbIPRHtm3AD",
        "colab": {
          "base_uri": "https://localhost:8080/"
        },
        "outputId": "ca6007cf-ac22-4bdc-f156-2169375a39b2"
      },
      "outputs": [
        {
          "output_type": "stream",
          "name": "stdout",
          "text": [
            "(995, 5)\n",
            "(1000, 5)\n",
            "(1000, 5)\n",
            "(1000, 5)\n",
            "(1000, 5)\n",
            "(622, 5)\n"
          ]
        },
        {
          "output_type": "execute_result",
          "data": {
            "text/plain": [
              "5617"
            ]
          },
          "metadata": {},
          "execution_count": 120
        }
      ],
      "source": [
        "DEF21 = [DEF21_1,DEF21_2,DEF21_3,DEF21_4,DEF21_5,DEF21_6]\n",
        "filedatalist(DEF21)"
      ]
    },
    {
      "cell_type": "markdown",
      "metadata": {
        "id": "e4_4sXj-U_59"
      },
      "source": [
        "## Check text comprenshiveness in dataframe and csv\n",
        "each dataframe['body'] collect comprehensive text from txt\n",
        "- random generate 25 rows for each txt dataframe - collect 100 txt from 2018-2021 \n",
        "- read ['body'] from csv?\n",
        "- write in accordingly rows['path'] txt files, check 100 characters + bottom 100 characters\n",
        "- compare with accordingly dataframe row"
      ]
    },
    {
      "cell_type": "code",
      "source": [
        "def get_df_name(df):\n",
        "    name =[x for x in globals() if globals()[x] is df][0]\n",
        "    return name"
      ],
      "metadata": {
        "id": "bRoS67a28ldC"
      },
      "execution_count": null,
      "outputs": []
    },
    {
      "cell_type": "code",
      "execution_count": null,
      "metadata": {
        "id": "gxE7NJXouV4y"
      },
      "outputs": [],
      "source": [
        "def checktext(df_in, sample_number):\n",
        "  #find accordingly csv\n",
        "  csvpath = '/content/drive/My Drive/DFG/DEF14A_Data/'+get_df_name(df_in)+'.csv' \n",
        "  testcsv = pd.read_csv(csvpath)\n",
        "  #random generate 25 rows from dataframe \n",
        "  sample_df = df_in.sample(sample_number)\n",
        "  #make a index list to retreive that body text\n",
        "  indexlist = list(sample_df.index)\n",
        "  j=0 # check how many cell\n",
        "  incompre = []\n",
        "  for i in indexlist:   \n",
        "    #text from csv\n",
        "    csvtext = testcsv.iloc[i,:]['body']\n",
        "    #text from df\n",
        "    dftext = sample_df.iloc[j,:]['body']\n",
        "    j=j+1\n",
        "    if csvtext != dftext:\n",
        "      incompre = incompre.append(i)\n",
        "      print(f'raise {i}')\n",
        "    \n",
        "  print(f'check {j} sample')\n",
        "  return incompre"
      ]
    },
    {
      "cell_type": "code",
      "source": [
        "checktext(DEF18_1,25)"
      ],
      "metadata": {
        "id": "dBKNBp_3wgXu"
      },
      "execution_count": null,
      "outputs": []
    },
    {
      "cell_type": "code",
      "execution_count": null,
      "metadata": {
        "colab": {
          "base_uri": "https://localhost:8080/"
        },
        "id": "znb-QaXLwFNb",
        "outputId": "d4415d88-e6e9-4dd9-d604-a11838e62f01"
      },
      "outputs": [
        {
          "output_type": "stream",
          "name": "stdout",
          "text": [
            "sucessfully check 25 sample\n"
          ]
        },
        {
          "output_type": "execute_result",
          "data": {
            "text/plain": [
              "25"
            ]
          },
          "metadata": {},
          "execution_count": 24
        }
      ],
      "source": [
        "checktext(DEF18_2,25)"
      ]
    },
    {
      "cell_type": "code",
      "source": [
        "checktext(DEF18_3,25)"
      ],
      "metadata": {
        "colab": {
          "base_uri": "https://localhost:8080/"
        },
        "id": "vaaWit-9_bvX",
        "outputId": "5f8777a6-75dd-44f9-ac7e-45c054614c9d"
      },
      "execution_count": null,
      "outputs": [
        {
          "output_type": "stream",
          "name": "stdout",
          "text": [
            "sucessfully check 25 sample\n"
          ]
        },
        {
          "output_type": "execute_result",
          "data": {
            "text/plain": [
              "25"
            ]
          },
          "metadata": {},
          "execution_count": 25
        }
      ]
    },
    {
      "cell_type": "code",
      "source": [
        "checktext(DEF18_4,25)"
      ],
      "metadata": {
        "colab": {
          "base_uri": "https://localhost:8080/"
        },
        "id": "cc-slXFK_dOM",
        "outputId": "fdbfa6f6-c76b-4ed0-a0c4-a83c74ac93b2"
      },
      "execution_count": null,
      "outputs": [
        {
          "output_type": "stream",
          "name": "stdout",
          "text": [
            "sucessfully check 25 sample\n"
          ]
        },
        {
          "output_type": "execute_result",
          "data": {
            "text/plain": [
              "25"
            ]
          },
          "metadata": {},
          "execution_count": 26
        }
      ]
    },
    {
      "cell_type": "code",
      "source": [
        "checktext(DEF18_5,25)"
      ],
      "metadata": {
        "colab": {
          "base_uri": "https://localhost:8080/"
        },
        "id": "4RSNee_7_enp",
        "outputId": "2ae28f0c-b68c-4c98-da46-feba65fd4bd6"
      },
      "execution_count": null,
      "outputs": [
        {
          "output_type": "stream",
          "name": "stdout",
          "text": [
            "sucessfully check 25 sample\n"
          ]
        },
        {
          "output_type": "execute_result",
          "data": {
            "text/plain": [
              "25"
            ]
          },
          "metadata": {},
          "execution_count": 27
        }
      ]
    },
    {
      "cell_type": "code",
      "source": [
        "checktext(DEF19_1,25)"
      ],
      "metadata": {
        "colab": {
          "base_uri": "https://localhost:8080/"
        },
        "id": "XoV7X4Eb-Fsf",
        "outputId": "0ed06377-64f9-4abc-b9d5-ec919b515ba9"
      },
      "execution_count": null,
      "outputs": [
        {
          "output_type": "stream",
          "name": "stdout",
          "text": [
            "sucessfully check 25 sample\n"
          ]
        },
        {
          "output_type": "execute_result",
          "data": {
            "text/plain": [
              "25"
            ]
          },
          "metadata": {},
          "execution_count": 18
        }
      ]
    },
    {
      "cell_type": "code",
      "source": [
        "checktext(DEF19_2,25)"
      ],
      "metadata": {
        "colab": {
          "base_uri": "https://localhost:8080/"
        },
        "id": "1V3lbkQdWrv9",
        "outputId": "3ac091d8-703d-4f49-bddf-798931f750fd"
      },
      "execution_count": null,
      "outputs": [
        {
          "output_type": "stream",
          "name": "stdout",
          "text": [
            "check 25 sample\n"
          ]
        },
        {
          "output_type": "execute_result",
          "data": {
            "text/plain": [
              "[]"
            ]
          },
          "metadata": {},
          "execution_count": 123
        }
      ]
    },
    {
      "cell_type": "code",
      "source": [
        "checktext(DEF19_3,25)"
      ],
      "metadata": {
        "colab": {
          "base_uri": "https://localhost:8080/"
        },
        "id": "B7bsDN3dXsHu",
        "outputId": "eec8f49f-dab2-4c42-b61e-0f2a0fc3916a"
      },
      "execution_count": null,
      "outputs": [
        {
          "output_type": "stream",
          "name": "stdout",
          "text": [
            "check 25 sample\n"
          ]
        },
        {
          "output_type": "execute_result",
          "data": {
            "text/plain": [
              "[]"
            ]
          },
          "metadata": {},
          "execution_count": 124
        }
      ]
    },
    {
      "cell_type": "code",
      "source": [
        "checktext(DEF19_4,25)"
      ],
      "metadata": {
        "colab": {
          "base_uri": "https://localhost:8080/"
        },
        "id": "JiM6NEXzXtqB",
        "outputId": "c9edf124-8d74-46af-ff17-3d77b57a93d6"
      },
      "execution_count": null,
      "outputs": [
        {
          "output_type": "stream",
          "name": "stdout",
          "text": [
            "check 25 sample\n"
          ]
        },
        {
          "output_type": "execute_result",
          "data": {
            "text/plain": [
              "[]"
            ]
          },
          "metadata": {},
          "execution_count": 125
        }
      ]
    },
    {
      "cell_type": "code",
      "source": [
        "checktext(DEF19_5,25)"
      ],
      "metadata": {
        "colab": {
          "base_uri": "https://localhost:8080/"
        },
        "id": "Hi4b3MtXXvcc",
        "outputId": "c03f90ad-cba4-4428-fef8-47e98fa4e0fb"
      },
      "execution_count": null,
      "outputs": [
        {
          "output_type": "stream",
          "name": "stdout",
          "text": [
            "check 25 sample\n"
          ]
        },
        {
          "output_type": "execute_result",
          "data": {
            "text/plain": [
              "[]"
            ]
          },
          "metadata": {},
          "execution_count": 126
        }
      ]
    },
    {
      "cell_type": "code",
      "source": [
        "checktext(DEF19_6,25)"
      ],
      "metadata": {
        "colab": {
          "base_uri": "https://localhost:8080/"
        },
        "id": "UWlIbQgiXww-",
        "outputId": "af53e37c-345a-4ff6-aae7-d86e842f0aeb"
      },
      "execution_count": null,
      "outputs": [
        {
          "output_type": "stream",
          "name": "stdout",
          "text": [
            "check 25 sample\n"
          ]
        },
        {
          "output_type": "execute_result",
          "data": {
            "text/plain": [
              "[]"
            ]
          },
          "metadata": {},
          "execution_count": 127
        }
      ]
    },
    {
      "cell_type": "code",
      "source": [
        "checktext(DEF20_1,25)"
      ],
      "metadata": {
        "colab": {
          "base_uri": "https://localhost:8080/"
        },
        "id": "XHAeEPEbC4j9",
        "outputId": "cc0d8338-18e1-4c1d-9eae-0e26f620e469"
      },
      "execution_count": null,
      "outputs": [
        {
          "output_type": "stream",
          "name": "stdout",
          "text": [
            "check 25 sample\n"
          ]
        },
        {
          "output_type": "execute_result",
          "data": {
            "text/plain": [
              "[]"
            ]
          },
          "metadata": {},
          "execution_count": 50
        }
      ]
    },
    {
      "cell_type": "code",
      "source": [
        "checktext(DEF20_2,25)"
      ],
      "metadata": {
        "colab": {
          "base_uri": "https://localhost:8080/"
        },
        "id": "QNEV8TIEC7rh",
        "outputId": "1a5e96e5-0b96-457c-8c52-eb91ff2ca8d3"
      },
      "execution_count": null,
      "outputs": [
        {
          "output_type": "stream",
          "name": "stdout",
          "text": [
            "check 25 sample\n"
          ]
        },
        {
          "output_type": "execute_result",
          "data": {
            "text/plain": [
              "[]"
            ]
          },
          "metadata": {},
          "execution_count": 128
        }
      ]
    },
    {
      "cell_type": "code",
      "source": [
        "#index = 839\n",
        "testcsv = pd.read_csv('/content/drive/My Drive/DFG/DEF14A_Data/DEF20_2.csv')\n",
        "sample_df = DEF20_2\n",
        "testcsv.iloc[839,:]\n",
        "sample_df.iloc[839,:]\n",
        "#after checking, the original txt is empty"
      ],
      "metadata": {
        "id": "6P8B0lsYFM-U"
      },
      "execution_count": null,
      "outputs": []
    },
    {
      "cell_type": "code",
      "source": [
        "checktext(DEF20_3,25)"
      ],
      "metadata": {
        "colab": {
          "base_uri": "https://localhost:8080/"
        },
        "id": "DXyu9STrC9TS",
        "outputId": "fe9a7775-7869-4781-98b6-294c080b77ab"
      },
      "execution_count": null,
      "outputs": [
        {
          "output_type": "stream",
          "name": "stdout",
          "text": [
            "check 25 sample\n"
          ]
        },
        {
          "output_type": "execute_result",
          "data": {
            "text/plain": [
              "[]"
            ]
          },
          "metadata": {},
          "execution_count": 52
        }
      ]
    },
    {
      "cell_type": "code",
      "source": [
        "checktext(DEF20_4,25)"
      ],
      "metadata": {
        "colab": {
          "base_uri": "https://localhost:8080/"
        },
        "id": "foSUQvTfC-ak",
        "outputId": "81a17575-818b-4764-bdbf-bf165537d73c"
      },
      "execution_count": null,
      "outputs": [
        {
          "output_type": "stream",
          "name": "stdout",
          "text": [
            "check 25 sample\n"
          ]
        },
        {
          "output_type": "execute_result",
          "data": {
            "text/plain": [
              "[]"
            ]
          },
          "metadata": {},
          "execution_count": 53
        }
      ]
    },
    {
      "cell_type": "code",
      "source": [
        "checktext(DEF20_5,25)"
      ],
      "metadata": {
        "colab": {
          "base_uri": "https://localhost:8080/"
        },
        "id": "3hOTNKy_DBpS",
        "outputId": "6f46d75e-23e0-4a85-8288-79dd7c542949"
      },
      "execution_count": null,
      "outputs": [
        {
          "output_type": "stream",
          "name": "stdout",
          "text": [
            "check 25 sample\n"
          ]
        },
        {
          "output_type": "execute_result",
          "data": {
            "text/plain": [
              "[]"
            ]
          },
          "metadata": {},
          "execution_count": 54
        }
      ]
    },
    {
      "cell_type": "code",
      "source": [
        "checktext(DEF20_6,25)"
      ],
      "metadata": {
        "colab": {
          "base_uri": "https://localhost:8080/"
        },
        "id": "hd7PvfqfDmdP",
        "outputId": "a93d1622-df6a-428b-c59c-e1b85e4ba84b"
      },
      "execution_count": null,
      "outputs": [
        {
          "output_type": "stream",
          "name": "stdout",
          "text": [
            "check 25 sample\n"
          ]
        },
        {
          "output_type": "execute_result",
          "data": {
            "text/plain": [
              "[]"
            ]
          },
          "metadata": {},
          "execution_count": 55
        }
      ]
    },
    {
      "cell_type": "code",
      "source": [
        "checktext(DEF21_1,25)"
      ],
      "metadata": {
        "colab": {
          "base_uri": "https://localhost:8080/"
        },
        "id": "bnjbEUQ7X9Wq",
        "outputId": "de3e0375-757c-477e-f36d-9cc25b1d709f"
      },
      "execution_count": null,
      "outputs": [
        {
          "output_type": "stream",
          "name": "stdout",
          "text": [
            "check 25 sample\n"
          ]
        },
        {
          "output_type": "execute_result",
          "data": {
            "text/plain": [
              "[]"
            ]
          },
          "metadata": {},
          "execution_count": 130
        }
      ]
    },
    {
      "cell_type": "code",
      "source": [
        "checktext(DEF21_2,25)"
      ],
      "metadata": {
        "colab": {
          "base_uri": "https://localhost:8080/"
        },
        "id": "lFcLYfXoX_f6",
        "outputId": "66733b00-ebda-42b1-983f-5f77d2309bf7"
      },
      "execution_count": null,
      "outputs": [
        {
          "output_type": "stream",
          "name": "stdout",
          "text": [
            "check 25 sample\n"
          ]
        },
        {
          "output_type": "execute_result",
          "data": {
            "text/plain": [
              "[]"
            ]
          },
          "metadata": {},
          "execution_count": 131
        }
      ]
    },
    {
      "cell_type": "code",
      "source": [
        "checktext(DEF21_3,25)"
      ],
      "metadata": {
        "colab": {
          "base_uri": "https://localhost:8080/"
        },
        "id": "W6ObGHNZYBUD",
        "outputId": "92bc8d23-7260-48be-e9d0-66fa9d606064"
      },
      "execution_count": null,
      "outputs": [
        {
          "output_type": "stream",
          "name": "stdout",
          "text": [
            "check 25 sample\n"
          ]
        },
        {
          "output_type": "execute_result",
          "data": {
            "text/plain": [
              "[]"
            ]
          },
          "metadata": {},
          "execution_count": 132
        }
      ]
    },
    {
      "cell_type": "code",
      "source": [
        "checktext(DEF21_4,25)"
      ],
      "metadata": {
        "colab": {
          "base_uri": "https://localhost:8080/"
        },
        "id": "AGh7RORmYCYl",
        "outputId": "8fdf9e29-ff00-4f8c-cf0c-8585f0203093"
      },
      "execution_count": null,
      "outputs": [
        {
          "output_type": "stream",
          "name": "stdout",
          "text": [
            "check 25 sample\n"
          ]
        },
        {
          "output_type": "execute_result",
          "data": {
            "text/plain": [
              "[]"
            ]
          },
          "metadata": {},
          "execution_count": 133
        }
      ]
    },
    {
      "cell_type": "code",
      "source": [
        "checktext(DEF21_5,25)"
      ],
      "metadata": {
        "colab": {
          "base_uri": "https://localhost:8080/"
        },
        "id": "n3p8fO_3YDRj",
        "outputId": "f41cfb0c-347e-4437-da2b-35c3674fd55f"
      },
      "execution_count": null,
      "outputs": [
        {
          "output_type": "stream",
          "name": "stdout",
          "text": [
            "check 25 sample\n"
          ]
        },
        {
          "output_type": "execute_result",
          "data": {
            "text/plain": [
              "[]"
            ]
          },
          "metadata": {},
          "execution_count": 134
        }
      ]
    },
    {
      "cell_type": "code",
      "source": [
        "checktext(DEF21_6,25)"
      ],
      "metadata": {
        "colab": {
          "base_uri": "https://localhost:8080/"
        },
        "id": "312AuPNFYEvy",
        "outputId": "9c98258a-99ff-4b8b-98d5-3165a248acc7"
      },
      "execution_count": null,
      "outputs": [
        {
          "output_type": "stream",
          "name": "stdout",
          "text": [
            "check 25 sample\n"
          ]
        },
        {
          "output_type": "execute_result",
          "data": {
            "text/plain": [
              "[]"
            ]
          },
          "metadata": {},
          "execution_count": 135
        }
      ]
    },
    {
      "cell_type": "code",
      "source": [
        "def checktext2(df_ls, sample_number):\n",
        "  for df_index,idf in enumerate(df_ls):\n",
        "    #find accordingly csv\n",
        "    csvpath = '/content/drive/My Drive/DFG/DEF14A_Data/'+get_df_name(idf)+'.csv' \n",
        "    testcsv = pd.read_csv(csvpath)\n",
        "    #random generate 25 rows from dataframe \n",
        "    sample_df = idf.sample(sample_number)\n",
        "    #make a index list to retreive that body text\n",
        "    indexlist = list(sample_df.index)\n",
        "    j=0 # check how many cell\n",
        "    for i in indexlist:   \n",
        "      #text from csv\n",
        "      csvtext = testcsv.iloc[i,:]['body']\n",
        "      #text from df\n",
        "      dftext = sample_df.iloc[j,:]['body']\n",
        "      j=j+1\n",
        "      if csvtext != dftext:\n",
        "        print(i+idf)\n",
        "    \n",
        "    print(f'sucessfully check {j} sample for {idf}')\n",
        "  return df_index,j\n",
        "  "
      ],
      "metadata": {
        "id": "fDyXXj1Z_rxz"
      },
      "execution_count": null,
      "outputs": []
    },
    {
      "cell_type": "code",
      "source": [
        "checktext2(DEF19,25)"
      ],
      "metadata": {
        "colab": {
          "base_uri": "https://localhost:8080/"
        },
        "id": "6lYY4Qa3Ahe1",
        "outputId": "8cd34f72-c757-4cc7-969c-50524f6b8505"
      },
      "execution_count": null,
      "outputs": [
        {
          "output_type": "stream",
          "name": "stderr",
          "text": [
            "IOPub data rate exceeded.\n",
            "The notebook server will temporarily stop sending output\n",
            "to the client in order to avoid crashing it.\n",
            "To change this limit, set the config variable\n",
            "`--NotebookApp.iopub_data_rate_limit`.\n",
            "\n",
            "Current values:\n",
            "NotebookApp.iopub_data_rate_limit=1000000.0 (bytes/sec)\n",
            "NotebookApp.rate_limit_window=3.0 (secs)\n",
            "\n"
          ]
        }
      ]
    },
    {
      "cell_type": "code",
      "execution_count": null,
      "metadata": {
        "colab": {
          "base_uri": "https://localhost:8080/"
        },
        "id": "7Bng2OD5ObKi",
        "outputId": "3cccda0c-31e1-4464-dfdd-e3c107a2b772"
      },
      "outputs": [
        {
          "data": {
            "text/plain": [
              "(25, 2)"
            ]
          },
          "execution_count": 13,
          "metadata": {},
          "output_type": "execute_result"
        }
      ],
      "source": [
        "#write in each file txt from that list\n",
        "\n",
        "def readfile(pathlist):\n",
        "  tmp_pd=pd.DataFrame()\n",
        "  for index,i in enumerate(pathlist):\n",
        "      \n",
        "      tmp = open(i, \"r\", encoding=\"ISO-8859-1\")\n",
        "      tmp_f = tmp.read()\n",
        "      tmp.close()\n",
        "\n",
        "      tmp_pd = tmp_pd.append({'path': i,\n",
        "                              'body': tmp_f}\n",
        "                            ,ignore_index=True)\n",
        "  return index, tmp_pd\n",
        "\n",
        "index, tmp_pd =readfile(pathlist1)\n",
        "tmp_pd.shape"
      ]
    },
    {
      "cell_type": "code",
      "execution_count": null,
      "metadata": {
        "colab": {
          "base_uri": "https://localhost:8080/",
          "height": 17
        },
        "id": "4Sbn19xWQXBH",
        "outputId": "39e08fe2-5b43-464d-8d90-721517c14282"
      },
      "outputs": [
        {
          "data": {
            "application/javascript": [
              "\n",
              "    async function download(id, filename, size) {\n",
              "      if (!google.colab.kernel.accessAllowed) {\n",
              "        return;\n",
              "      }\n",
              "      const div = document.createElement('div');\n",
              "      const label = document.createElement('label');\n",
              "      label.textContent = `Downloading \"${filename}\": `;\n",
              "      div.appendChild(label);\n",
              "      const progress = document.createElement('progress');\n",
              "      progress.max = size;\n",
              "      div.appendChild(progress);\n",
              "      document.body.appendChild(div);\n",
              "\n",
              "      const buffers = [];\n",
              "      let downloaded = 0;\n",
              "\n",
              "      const channel = await google.colab.kernel.comms.open(id);\n",
              "      // Send a message to notify the kernel that we're ready.\n",
              "      channel.send({})\n",
              "\n",
              "      for await (const message of channel.messages) {\n",
              "        // Send a message to notify the kernel that we're ready.\n",
              "        channel.send({})\n",
              "        if (message.buffers) {\n",
              "          for (const buffer of message.buffers) {\n",
              "            buffers.push(buffer);\n",
              "            downloaded += buffer.byteLength;\n",
              "            progress.value = downloaded;\n",
              "          }\n",
              "        }\n",
              "      }\n",
              "      const blob = new Blob(buffers, {type: 'application/binary'});\n",
              "      const a = document.createElement('a');\n",
              "      a.href = window.URL.createObjectURL(blob);\n",
              "      a.download = filename;\n",
              "      div.appendChild(a);\n",
              "      a.click();\n",
              "      div.remove();\n",
              "    }\n",
              "  "
            ],
            "text/plain": [
              "<IPython.core.display.Javascript object>"
            ]
          },
          "metadata": {},
          "output_type": "display_data"
        },
        {
          "data": {
            "application/javascript": [
              "download(\"download_7677f0a5-becd-453a-a932-a6f2f6a8ca2c\", \"exam1.csv\", 317098)"
            ],
            "text/plain": [
              "<IPython.core.display.Javascript object>"
            ]
          },
          "metadata": {},
          "output_type": "display_data"
        }
      ],
      "source": [
        "from google.colab import files\n",
        "df1.to_csv('exam1.csv') \n",
        "files.download(\"exam1.csv\")"
      ]
    },
    {
      "cell_type": "code",
      "execution_count": null,
      "metadata": {
        "colab": {
          "base_uri": "https://localhost:8080/"
        },
        "id": "BMIGilz3F4ho",
        "outputId": "8c2dbe4f-4046-4ea6-a112-47cba81276b0"
      },
      "outputs": [
        {
          "data": {
            "text/plain": [
              "['file.txt', 'file2.txt']"
            ]
          },
          "execution_count": 4,
          "metadata": {},
          "output_type": "execute_result"
        }
      ],
      "source": [
        "industry_files = {'industry_name':['file.txt', 'file2.txt']}\n",
        "industry_files['industry_name']"
      ]
    },
    {
      "cell_type": "code",
      "execution_count": null,
      "metadata": {
        "colab": {
          "base_uri": "https://localhost:8080/"
        },
        "id": "kpDX6Rb4OIMY",
        "outputId": "ca2e38b6-03be-4011-b4c3-555ff773b4f8"
      },
      "outputs": [
        {
          "name": "stdout",
          "output_type": "stream",
          "text": [
            "['Advertising& Marketing', 'Aerospace& Defense', 'AgriculturalProducts', 'AirFreight & Logistics', 'Airlines', 'AlcoholicBeverages', 'Apparel,Accessories & Foo', 'ApplianceManufacturing', 'AssetManagement & Custody', 'AutoParts', 'Automobiles', 'Biofuels', 'Biotechnology& Pharmaceut', 'BuildingProducts & Furnis', 'CarRental & Leasing', 'Casinos& Gaming', 'Chemicals', 'CoalOperations', 'CommercialBanks', 'ConstructionMaterials', 'ConsumerFinance', 'Containers& Packaging', 'CruiseLines', 'DrugRetailers', 'E-Commerce', 'Education', 'ElectricUtilities & Power', 'Electrical& Electronic Eq', 'ElectronicManufacturing S', 'Engineering& Construction', 'FoodRetailers & Distribut', 'ForestryManagement', 'FuelCells & Industrial Ba', 'GasUtilities & Distributo', 'Hardware', 'HealthCare Delivery', 'HealthCare Distributors', 'HomeBuilders', 'Hotels& Lodging', 'Household& Personal Produ', 'IndustrialMachinery & Goo', 'Insurance', 'InternetMedia & Services', 'InvestmentBanking & Broke', 'Iron& Steel Producers', 'LeisureFacilities', 'ManagedCare', 'MarineTransportation', 'Meat,Poultry & Dairy', 'Media& Entertainment', 'MedicalEquipment & Suppli', 'Metals& Mining', 'MortgageFinance', 'Multilineand Specialty Re', 'Non-AlcoholicBeverages', 'Oil& Gas - Exploration & ', 'Oil& Gas - Midstream', 'Oil& Gas - Refining & Mar', 'Oil& Gas - Services', 'ProcessedFoods', 'Professional& Commercial ', 'Pulp& Paper Products', 'RailTransportation', 'RealEstate', 'RealEstate Services', 'Restaurants', 'RoadTransportation', 'Security& Commodity Excha', 'Semiconductors', 'Software& IT Services', 'SolarTechnology & Project', 'TelecommunicationServices', 'Tobacco', 'Toys& Sporting Goods', 'WasteManagement', 'WaterUtilities & Services', 'WindTechnology & Project ']\n",
            "The number of industries: 77\n"
          ]
        }
      ],
      "source": [
        "# check (list of industries)\n",
        "industry_list = sorted(list(industry_files.keys()))\n",
        "\n",
        "print(industry_list)\n",
        "print(\"The number of industries:\", len(industry_list))"
      ]
    },
    {
      "cell_type": "code",
      "execution_count": null,
      "metadata": {
        "colab": {
          "base_uri": "https://localhost:8080/"
        },
        "id": "EvDRv2-uNZQd",
        "outputId": "6ac86077-d4d2-4008-93e4-a325dac3c8cb"
      },
      "outputs": [
        {
          "name": "stdout",
          "output_type": "stream",
          "text": [
            "All industries are good to go!\n"
          ]
        }
      ],
      "source": [
        "# check that each industry has six file names\n",
        "good_ind_filecount = 0\n",
        "\n",
        "for industry in industry_files:\n",
        "\n",
        "    if len(industry_files[industry]) != 6:\n",
        "        print(industry, \"does not have 6 files.\")\n",
        "    else:\n",
        "        good_ind_filecount += 1\n",
        "        \n",
        "if good_ind_filecount == len(industry_files):\n",
        "    print(\"All industries are good to go!\")"
      ]
    },
    {
      "cell_type": "code",
      "execution_count": null,
      "metadata": {
        "colab": {
          "base_uri": "https://localhost:8080/"
        },
        "id": "iDRC8m8DpGki",
        "outputId": "38789225-039f-4ab2-e972-b94ebd7f8524"
      },
      "outputs": [
        {
          "data": {
            "text/plain": [
              "['(?<![^ .,?!;])high turnover', '(?<![^ .,?!;])worker turnover']"
            ]
          },
          "execution_count": 7,
          "metadata": {},
          "output_type": "execute_result"
        }
      ],
      "source": [
        "def attach_regex_to_beginning_of_terms(terms_lst, regex='(?<![^ .,?!;])'):\n",
        "    if regex == '(?<![^ .,?!;])':\n",
        "        return [regex + term for term in terms_lst]\n",
        "        \n",
        "attach_regex_to_beginning_of_terms(['high turnover', 'worker turnover',])\n",
        "\n"
      ]
    }
  ],
  "metadata": {
    "colab": {
      "collapsed_sections": [
        "aheR4bR2-KgN",
        "W0U77d6xl6Ji",
        "Ya2zutS8t3g0",
        "0t4k-UBcCvBk",
        "mHFuWYlxGiQn",
        "Nq0-OivQJw0d",
        "6tt24534K_44",
        "e4_4sXj-U_59"
      ],
      "name": "DEF14A_Loadfiles.ipynb",
      "provenance": [],
      "include_colab_link": true
    },
    "kernelspec": {
      "display_name": "Python 3",
      "name": "python3"
    },
    "language_info": {
      "name": "python"
    }
  },
  "nbformat": 4,
  "nbformat_minor": 0
}